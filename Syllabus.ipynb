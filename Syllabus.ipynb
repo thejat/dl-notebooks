{
 "cells": [
  {
   "cell_type": "markdown",
   "metadata": {},
   "source": [
    "# Deep Learning and Modern Applications \n",
    "# Alternate title: Elements of Modern AI Models\n",
    "\n",
    "## 1. Summary\n",
    "\n",
    "- Term, CRN and Number of credits: Spring 2025, 38063 (IDS 576) and 4 resp.\n",
    "- Instructor: [Dr. Theja Tulabandhula](https://theja.org)"
   ]
  },
  {
   "cell_type": "markdown",
   "metadata": {},
   "source": [
    "## 2. Objective\n",
    "\n",
    "The goal of this class is to cover a subset of advanced machine learning techniques, after students have seen the basics of data mining (such as in IDS 572) and machine learning (such as in IDS 575). \n",
    "\n",
    "\n",
    "Broadly, we will cover topics spanning **deep learning and reinforcement learning**. In particular, we will study popular deep learning architectures, their design choices and how they are trained. This will be motivated by business applications dealing with image, text and tabular data. Finally, we will look at online and reinforcement learning frameworks and their role in sequential decision making settings such as retail.\n",
    "\n",
    "A tentative list of topics is as follows:\n",
    "\n",
    " - Backpropagation and feed forward neural networks\n",
    " - Convolutional networks (CNNs)\n",
    " - Recurrent networks and Long short-term memory networks (LSTMs)\n",
    " - Attention mechanism and transformers (BERT, GPT-3)\n",
    " - Variational autoencoders (VAEs)\n",
    " - Generative adversarial networks (GANs)\n",
    " - Large Language Models (LLMs): training, inference and applications\n",
    " - Deep reinforcement learning and Deep Q-Network (DQN)\n",
    " - Deep learning design choices such as optimizers (Adam, RMSprop), nonlinearities, embeddings, attention, dropout, batch normalization etc.\n",
    "\n",
    "We will also discuss aspects of **AI ethics, fairness, accountability, transparency and sustainability** in this course. ML systems are being adopted in a growing number of contexts, fueled by big data. These systems filter, sort, score, recommend, personalize, and otherwise shape human experience, increasingly making or informing decisions with major impact on access to, e.g., credit, insurance, healthcare, parole, social security, and immigration. Although these systems may bring myriad benefits, they also contain inherent risks, such as codifying and entrenching biases; reducing accountability, and hindering due process; they also increase the information asymmetry between individuals whose data feed into these systems and big players capable of inferring potentially relevant information. Under the *economic-social* intersection of sustainability (social: standard of living, education, community, equal opportunity; economic: profit, cost saving, economic growth), we will revisit how DL models and related ML systems could be designed that tackle the aforementioned challenges while providing value."
   ]
  },
  {
   "cell_type": "markdown",
   "metadata": {},
   "source": [
    "## 3. Course Logistics\n",
    "\n",
    " - Meeting Times: Wednesdays 6.00 PM to 8.30 PM\n",
    " - Location: Taft Hall Room 100\n",
    " - Staff: \n",
    "   - Instructor: [Dr. Theja Tulabandhula](https://theja.org)\n",
    "     - Office Hours: Wednesdays 1-2pm by prior email appointments at UH 2404/Zoom"
   ]
  },
  {
   "cell_type": "markdown",
   "metadata": {},
   "source": [
    "### 3.1. Tentative Dates\n",
    "\n",
    " - 01/15: lecture 01\n",
    " - 01/22: lecture 02\n",
    " - 01/28: assignment 1 due (feed-forward networks, pytorch, gradient descent)\n",
    " - 01/29: lecture 03\n",
    " - 02/05: lecture 04\n",
    " - 02/12: lecture 05\n",
    " - 02/18: assignment 2 due (convolutional neural networks, recommendation systems)\n",
    " - 02/19: lecture 06 (remote)\n",
    " - 02/26: lecture 07\n",
    " - 03/05: lecture 08\n",
    " - 03/11: assignment 3 due (language modeling, machine translation)\n",
    " - 03/12: lecture slot for suggested self-study, and student project ideation/meeting within groups\n",
    " - 03/18: project intermediate report, plan and code due\n",
    " - 03/19: lecture slot for student meetings with teaching staff on submitted project proposal\n",
    " - 03/26: (no class: spring break)\n",
    " - 04/02: lecture 09\n",
    " - 04/09: lecture slot for student meetings with teaching staff on project progress\n",
    " - 04/16: lecture 10\n",
    " - 04/23: lecture 11\n",
    " - 04/29: project final report+code due\n",
    " - 04/30: lecture slot for student project presentations and (optional) guest speaker"
   ]
  },
  {
   "cell_type": "markdown",
   "metadata": {},
   "source": [
    "### 3.2. Tentative Topics\n",
    "\n",
    "*See [this page](https://github.com/thejat/dl-notebooks/blob/master/LectureGoals.ipynb) for goals, module specific external links and [this folder](https://github.com/thejat/dl-notebooks/tree/master/slides) for the slides.*\n",
    "\n",
    " -  L01 : Motivating Applications, Machine Learning Pipeline  (Data, Models, Loss, Optimization), Backpropagation\n",
    "\n",
    " -  L02 : Feedforward Networks: Nonlinearities, Convolutional Neural Networks: Convolution, Pooling\n",
    "\n",
    " -  L03 : Jumpstarting Convolutional Neural Networks: Visualization, Transfer, Practical Models (VGG, ResNet)\n",
    "\n",
    " -  L04 : Text and Embeddings: Introduction to NLP, Word Embeddings, Word2Vec\n",
    "\n",
    " -  L05 : Recurrent Neural Networks and Transformers: Sequence to Sequence Learning, RNNs and LSTMs\n",
    "\n",
    " -  L06 : Advanced NLP: Attention, BERT and Transformers\n",
    "\n",
    " -  L07 : Unsupervised Deep Learning: Variational Autoencoders\n",
    "\n",
    " -  L08 : Unsupervised Deep Learning: Generative Adversarial Networks\n",
    "\n",
    " -  L09 : Online Learning: A/B Testing, Multi-armed Bandits, Contextual Bandits\n",
    "\n",
    " -  L10 : Reinforcement Learning I: Policies, State-Action Value Functions\n",
    "\n",
    " -  L11 : Reinforcement Learning II: Bellman Equations, Q Learning \n",
    "\n",
    " -  L12 : Deep Reinforcement Learning: Function Approximation, DQN for Atari Games, MCTS for AlphaGo\n",
    "\n",
    " -  L13 : AI Ethics, Fairness, Accountability, Transparency and Sustainability"
   ]
  },
  {
   "cell_type": "markdown",
   "metadata": {},
   "source": [
    "## 4. Textbook and Materials\n",
    "\n",
    "### 4.1. Textbooks for DL and RL\n",
    "\n",
    " - [Deep Learning](https://www.deeplearningbook.org/) by Ian Goodfellow and Yoshua Bengio and Aaron Courville (2016).\n",
    " - [Dive into Deep Learning](https://d2l.ai/index.html) by Aston Zhang and Zachary C. Lipton and Mu Li and Alexander J. Smola (2020).\n",
    " - [Deep Learning for Coders with fastai and PyTorch: AI Applications Without a PhD](https://github.com/fastai/fastbook) by Jeremy Howard and Sylvain Gugger (2020). It is available on [Amazon]( https://www.amazon.com/Deep-Learning-Coders-fastai-PyTorch/dp/1492045527).\n",
    " - [Reinforcement Learning: An Introduction](http://incompleteideas.net/book/the-book-2nd.html) by Richard S. Sutton and Andrew G. Barto (2018).\n",
    "\n",
    "### 4.2 Textbooks for AI Ethics and Sustainability\n",
    " - [Book: \"Responsible AI\". 2022. by Patrick Hall, Rumman Chowdhury. O'Reilly Media, Inc.](https://learning.oreilly.com/library/view/responsible-ai/9781098102425/)\n",
    " - [Book: \"Practical Fairness\". 2020. By Aileen Nielsen. O'Reilly Media, Inc.](https://learning.oreilly.com/library/view/practical-fairness/9781492075721/)\n",
    " - [Book: \"Fairness and machine learning: Limitations and Opportunities.\" Barocas, S., Hardt, M. and Narayanan, A., 2018.](https://fairmlbook.org/)\n",
    " - [Book: \"The Framework for ML Governance\" by Kyle Gallatin. 2021.  O'Reilly Media](https://learning.oreilly.com/library/view/the-framework-for/9781098100483/)"
   ]
  },
  {
   "cell_type": "markdown",
   "metadata": {},
   "source": [
    "### 4.2. Software and Hardware\n",
    "\n",
    " - Any OS should be okay. If in doubt, run a virtual machine running linux (this will be discussed in the class). Some of the software we will work with are:\n",
    "   - [Python](https://www.python.org/): Refer to [this set of notes](https://ocw.mit.edu/courses/electrical-engineering-and-computer-science/6-189-a-gentle-introduction-to-programming-using-python-january-iap-2011/lectures/) or [this](http://stanfordpython.com/) to get started in Python.\n",
    "   - [Jupyter](https://jupyter.org/)\n",
    "   - Pytorch, tensorflow, keras, matplotlib, numpy, scipy, pandas, gym, random, ...\n",
    "   - ...\n",
    " - There will be varied computing resources needed for this course. We will rely on [Google Colab](https://colab.research.google.com/notebooks/), especially the GPU/TPU to train our deep learning models. "
   ]
  },
  {
   "cell_type": "markdown",
   "metadata": {},
   "source": [
    "## 5. Assignments and Project\n",
    "\n",
    "You should form groups of _strictly_ $2$ students for the assignment and project components. Reach out to your classmates early (and register your groups in the spreadsheet linked on [Blackboard](https://uic.blackboard.com/) ).\n",
    "\n",
    "### 5.1. Assignment \n",
    "\n",
    "The assignment links are below:\n",
    "\n",
    " 1. [Assignment 1](https://github.com/thejat/dl-notebooks/blob/master/Assignment1.ipynb) \n",
    " 2. [Assignment 2](https://github.com/thejat/dl-notebooks/blob/master/Assignment2.ipynb) \n",
    " 3. [Assignment 3](https://github.com/thejat/dl-notebooks/blob/master/Assignment3.ipynb) \n",
    "\n",
    "These involve reimplementing recent deep-learning techniques and understanding their behavior on interesting datasets. Always mention any sources that were relied on in your assignment solutions. Submission deadline is BEFORE 11.59 PM on the concerned day. Late submissions will have an automatic 20% penalty per day without exceptions. Use [Blackboard](https://uic.blackboard.com/) for uploads."
   ]
  },
  {
   "cell_type": "markdown",
   "metadata": {},
   "source": [
    "### 5.2. Project\n",
    "\n",
    " - Students are expected to apply what they learn in the course and demonstrate their understanding by undertaking a suitable project. \n",
    " - A preliminary documentation along with the scripts/codes/commands used is to be submitted midway and a final version of the same is to be submitted right before the end of the term (see schedule above and Blackboard). \n",
    "- The scope, evaluation criteria used, examples and other details are available [here](https://github.com/thejat/dl-notebooks/blob/master/Project.ipynb). \n",
    "- Submission deadline is BEFORE 11.59 PM on the concerned day. Late submissions will have an automatic 20% penalty per day. Use [Blackboard](https://uic.blackboard.com/) for uploading your work as a _single zip_ file."
   ]
  },
  {
   "cell_type": "markdown",
   "metadata": {},
   "source": [
    "\n",
    "## 6. Grades\n",
    "\n",
    " - Grades will be based on:\n",
    "   - the assignments (3 times 10%), \n",
    "   - the project (see project details above) (10% for intermediate and 50% for final), and \n",
    "   - course participation (including but not limited to attendance, interaction with the instructor and the TA (the latter if applicable), and how well you support your group) (10%)."
   ]
  },
  {
   "cell_type": "markdown",
   "metadata": {},
   "source": [
    "\n",
    "\n",
    "\n",
    "## 7. Miscellaneous Information\n",
    "\n",
    " - This is a 4 credit graduate level course offered by the Information and Decision Sciences department at UIC.\n",
    " - See the [academic calendar](http://catalog.uic.edu/ucat/academic-calendar/) for the semester timeline.\n",
    " - Students who wish to observe their religious holidays (http://oae.uic.edu/religious-calendar/) should notify the instructor within one week of the first lecture date. \n",
    " - Contact the instructor at the earliest, if you require any accommodations for access to and/or participation in this course (see additional details below).\n",
    " - Refer to the academic integrity guidelines set by the university.\n",
    " \n",
    "### 7.1 Special Accommodations\n",
    "\n",
    "UIC has the [Disability Resource Center (DRC)](https://drc.uic.edu/) to help students needing special accommodations. If you have any condition, such as a physical or learning disability, which will make it difficult for you to carry out the work as outlined in the syllabus or which will require academic accommodations, you can go to the DRC for assistance, and should do so at the beginning of the semester or as early as possible. \n",
    "\n",
    "If a student needs remote learning accommodation due to a physical condition, such as if they are immuno-compromised and especially vulnerable to Covid, then the student can submit a formal request for remote learning accommodation through the DRC. This is needed in order to maintain fairness and consistency in our attendance policy."
   ]
  }
 ],
 "metadata": {
  "kernelspec": {
   "display_name": "Python 3 (ipykernel)",
   "language": "python",
   "name": "python3"
  },
  "language_info": {
   "codemirror_mode": {
    "name": "ipython",
    "version": 3
   },
   "file_extension": ".py",
   "mimetype": "text/x-python",
   "name": "python",
   "nbconvert_exporter": "python",
   "pygments_lexer": "ipython3",
   "version": "3.12.1"
  }
 },
 "nbformat": 4,
 "nbformat_minor": 4
}
